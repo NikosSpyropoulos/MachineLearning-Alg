{
 "cells": [
  {
   "cell_type": "markdown",
   "metadata": {},
   "source": [
    "# MACHINE LEARNING - FIRST PROJECT "
   ]
  },
  {
   "cell_type": "markdown",
   "metadata": {},
   "source": [
    "# NIKOLAOS SPYROPOULOS, AM: 3077 "
   ]
  },
  {
   "cell_type": "code",
   "execution_count": 2,
   "metadata": {
    "id": "yWVRYVnt0XeW"
   },
   "outputs": [],
   "source": [
    "import tensorflow as tf\n",
    "import numpy as np\n",
    "import pandas as pd\n",
    "import matplotlib.pyplot as plt\n",
    "\n",
    "# f1_scores\n",
    "f1_knn_eu = [] #knn using euclidean\n",
    "f1_knn_cos = [] #knn using cosine\n",
    "f1_nn = [] #for the 2 neural networks\n",
    "f1_svm = [] #for the different svm \n",
    "\n",
    "#accuracy\n",
    "acc_knn_eu = [] #knn using euclidean\n",
    "acc_knn_cos = [] #knn using cosine\n",
    "acc_nn = [] #for the 2 neural networks\n",
    "acc_svm = [] #for the different svm "
   ]
  },
  {
   "cell_type": "markdown",
   "metadata": {
    "id": "6ZcK1NOXDdJa"
   },
   "source": [
    "Loading dataset"
   ]
  },
  {
   "cell_type": "code",
   "execution_count": 3,
   "metadata": {
    "id": "5SNFhbN00b57"
   },
   "outputs": [],
   "source": [
    "fashion_mnist = tf.keras.datasets.fashion_mnist\n",
    "(train_images, train_labels), (test_images, test_labels) = fashion_mnist.load_data()"
   ]
  },
  {
   "cell_type": "markdown",
   "metadata": {
    "id": "84OxwZCq_Ckj"
   },
   "source": [
    "\n",
    "\n",
    "*    The following shows there are 60,000 images , with each image represented as 28 x 28 pixels\n",
    "*   Likewise, there are 60,000 labels \n",
    "\n",
    "\n",
    "\n"
   ]
  },
  {
   "cell_type": "code",
   "execution_count": 4,
   "metadata": {
    "colab": {
     "base_uri": "https://localhost:8080/"
    },
    "id": "zoibrCBN-Dyb",
    "outputId": "1e465b3e-8cac-4320-9a47-3fa4d781b50a"
   },
   "outputs": [
    {
     "name": "stdout",
     "output_type": "stream",
     "text": [
      "The train image dataset has shape: (60000, 28, 28)\n",
      "The test image dataset has shape: (10000, 28, 28)\n",
      "The train label dataset has shape: 60000\n",
      "The test label dataset has shape: (10000,)\n"
     ]
    }
   ],
   "source": [
    "print('The train image dataset has shape:', train_images.shape)\n",
    "print('The test image dataset has shape:',test_images.shape)\n",
    "print('The train label dataset has shape:', len(train_labels))\n",
    "print('The test label dataset has shape:',test_labels.shape)"
   ]
  },
  {
   "cell_type": "markdown",
   "metadata": {
    "id": "LSJRE-YnD_4L"
   },
   "source": [
    "Classes names are not included in the dataset so we initialize them here"
   ]
  },
  {
   "cell_type": "code",
   "execution_count": 5,
   "metadata": {
    "id": "6vAzvu7X-UA2"
   },
   "outputs": [],
   "source": [
    "class_names = ['T-shirt/top', 'Trouser', 'Pullover', 'Dress', 'Coat',\n",
    "               'Sandal', 'Shirt', 'Sneaker', 'Bag', 'Ankle boot']"
   ]
  },
  {
   "cell_type": "markdown",
   "metadata": {
    "id": "KI_zCEPFIOJA"
   },
   "source": [
    "The **train_images** have 3 dimensions and we have to reshape them into 2d to use it in the methods knn and svm"
   ]
  },
  {
   "cell_type": "code",
   "execution_count": 6,
   "metadata": {
    "colab": {
     "base_uri": "https://localhost:8080/"
    },
    "id": "NL_6-jo4IAwT",
    "outputId": "cadb98df-89dc-4fc9-deb1-509d70a15d08"
   },
   "outputs": [
    {
     "data": {
      "text/plain": [
       "(60000, 784)"
      ]
     },
     "execution_count": 6,
     "metadata": {},
     "output_type": "execute_result"
    }
   ],
   "source": [
    "nsamples, nx, ny = train_images.shape\n",
    "train_images_2d = train_images.reshape((nsamples,nx*ny))\n",
    "train_images_2d.shape"
   ]
  },
  {
   "cell_type": "markdown",
   "metadata": {
    "id": "SdB9sIKrqBoD"
   },
   "source": [
    "same as previously but for the **test_images**"
   ]
  },
  {
   "cell_type": "code",
   "execution_count": 7,
   "metadata": {
    "colab": {
     "base_uri": "https://localhost:8080/"
    },
    "id": "fl9zy82sqDhS",
    "outputId": "95d74400-75c5-4ecf-a154-7646b8aec2de"
   },
   "outputs": [
    {
     "data": {
      "text/plain": [
       "(10000, 784)"
      ]
     },
     "execution_count": 7,
     "metadata": {},
     "output_type": "execute_result"
    }
   ],
   "source": [
    "nsamples, nx, ny = test_images.shape\n",
    "test_images_2d = test_images.reshape((nsamples,nx*ny))\n",
    "test_images_2d.shape"
   ]
  },
  {
   "cell_type": "markdown",
   "metadata": {
    "id": "FPqPmBvqoQqR"
   },
   "source": [
    "# **KNN classifier function**"
   ]
  },
  {
   "cell_type": "code",
   "execution_count": 7,
   "metadata": {
    "id": "rOPNpqzkrEDU"
   },
   "outputs": [],
   "source": [
    "from sklearn.neighbors import KNeighborsClassifier\n",
    "from sklearn.metrics import classification_report, confusion_matrix\n",
    "from sklearn.metrics import f1_score, accuracy_score"
   ]
  },
  {
   "cell_type": "code",
   "execution_count": 8,
   "metadata": {
    "id": "uwuLPBCioV3r"
   },
   "outputs": [],
   "source": [
    "def knn_classifier(k, distance):\n",
    "    print('\\nKNN Classifier with n_neighbors = ', k, 'using', distance, 'distance\\n')\n",
    "    classifier = KNeighborsClassifier(n_neighbors = k , metric = distance)\n",
    "    classifier.fit(train_images_2d, train_labels)\n",
    "    y_pred = classifier.predict(test_images_2d)\n",
    "    \n",
    "    f1_current = f1_score(test_labels,y_pred, average = 'weighted')\n",
    "    acc_current = accuracy_score(test_labels,y_pred)\n",
    "    if distance is 'euclidean':\n",
    "        f1_knn_eu.append(f1_current)\n",
    "        acc_knn_eu.append(acc_current)\n",
    "    else:\n",
    "        f1_knn_cos.append(f1_current)\n",
    "        acc_knn_cos.append(acc_current)\n",
    "            \n",
    "    print(\"F1 Score: {}\".format(f1_current))\n",
    "    print(\"Accuracy: {}\".format(acc_current))"
   ]
  },
  {
   "cell_type": "markdown",
   "metadata": {
    "id": "AejMF18XJtLl"
   },
   "source": [
    "**KNeighborsClassifier using euclidean distance for K = 1, 5, 10**"
   ]
  },
  {
   "cell_type": "code",
   "execution_count": 9,
   "metadata": {
    "colab": {
     "base_uri": "https://localhost:8080/"
    },
    "id": "SyUB-pA5JyEO",
    "outputId": "fd0afaee-266b-4579-dc79-cdad9cb02935"
   },
   "outputs": [
    {
     "name": "stdout",
     "output_type": "stream",
     "text": [
      "\n",
      "KNN Classifier with n_neighbors =  1 using euclidean distance\n",
      "\n",
      "F1 Score: 0.8503492525016987\n",
      "Accuracy: 0.8497\n",
      "\n",
      "KNN Classifier with n_neighbors =  5 using euclidean distance\n",
      "\n",
      "F1 Score: 0.8546439722018904\n",
      "Accuracy: 0.8554\n",
      "\n",
      "KNN Classifier with n_neighbors =  10 using euclidean distance\n",
      "\n",
      "F1 Score: 0.8506366581732875\n",
      "Accuracy: 0.8515\n"
     ]
    }
   ],
   "source": [
    "k_list = [1,5,10]\n",
    "for k in k_list:\n",
    "    knn_classifier(k, 'euclidean')"
   ]
  },
  {
   "cell_type": "markdown",
   "metadata": {
    "id": "SLQTZSAWE1wQ"
   },
   "source": [
    "**KNeighborsClassifier using cosine distance for K = 1, 5, 10**"
   ]
  },
  {
   "cell_type": "code",
   "execution_count": 10,
   "metadata": {
    "colab": {
     "base_uri": "https://localhost:8080/"
    },
    "id": "TyYGc-KPFLpx",
    "outputId": "67bc3598-8c7c-4586-e7b5-cf9236df8c67"
   },
   "outputs": [
    {
     "name": "stdout",
     "output_type": "stream",
     "text": [
      "\n",
      "KNN Classifier with n_neighbors =  1 using cosine distance\n",
      "\n",
      "F1 Score: 0.8575689280735682\n",
      "Accuracy: 0.8576\n",
      "\n",
      "KNN Classifier with n_neighbors =  5 using cosine distance\n",
      "\n",
      "F1 Score: 0.8559639833399547\n",
      "Accuracy: 0.8578\n",
      "\n",
      "KNN Classifier with n_neighbors =  10 using cosine distance\n",
      "\n",
      "F1 Score: 0.8497578634159508\n",
      "Accuracy: 0.8529\n"
     ]
    }
   ],
   "source": [
    "k_list = [1,5,10]\n",
    "for k in k_list:\n",
    "    knn_classifier(k, 'cosine')"
   ]
  },
  {
   "cell_type": "markdown",
   "metadata": {},
   "source": [
    "# KNN RESULTS"
   ]
  },
  {
   "cell_type": "markdown",
   "metadata": {},
   "source": [
    "As we can see from the above results the the **F1_score with ascending order**\n",
    "\n",
    "**EUCLIDEAN DISTANCE**\n",
    "1.   **Κ = 1** F1 Score: 0.8503492525016987\n",
    "2.   **K = 10** F1 Score: 0.8506366581732875\n",
    "3.   **K = 5** F1 Score: 0.8546439722018904\n",
    "\n",
    "**COSINE DISTANCE**\n",
    "1.   **Κ = 10** F1 Score: 0.8497578634159508\n",
    "2.   **K = 5** F1 Score: 0.8559639833399547\n",
    "3.   **K = 1** F1 Score: 0.8575689280735682\n",
    "\n",
    "So the **best case** of KNN according to the **F1_score** was by using **cosine distance with 1 neigbhor** and the **worse** was **cosine distance** with **10 neighbors** \n"
   ]
  },
  {
   "cell_type": "markdown",
   "metadata": {},
   "source": [
    "As we can see from the above results the the **ACCURACY with ascending order**\n",
    "\n",
    "**EUCLIDEAN DISTANCE**\n",
    "1.   **Κ = 1** Accuracy: 0.8497\n",
    "2.   **K = 10** Accuracy: 0.8515\n",
    "3.   **K = 5** Accuracy: 0.8554\n",
    "\n",
    "**COSINE DISTANCE**\n",
    "1.   **Κ = 10** Accuracy: 0.8529\n",
    "2.   **K = 1** Accuracy: 0.8576\n",
    "3.   **K = 5** Accuracy: 0.8578\n",
    "\n",
    "So the **best case** of KNN according to the **ACCURACY** was by using **cosine distance with 5 neigbhors** and the **worse** was **euclidean distance** with **1 neighbors** \n"
   ]
  },
  {
   "cell_type": "markdown",
   "metadata": {},
   "source": [
    "# NEURAL NETWORKS"
   ]
  },
  {
   "cell_type": "markdown",
   "metadata": {
    "id": "IJzSDselXQkF"
   },
   "source": [
    "**Normalization** of the data to use them in our model."
   ]
  },
  {
   "cell_type": "code",
   "execution_count": 5,
   "metadata": {
    "id": "SJjc2qAYXaHH"
   },
   "outputs": [],
   "source": [
    "train_images = train_images / 255.0\n",
    "test_images = test_images / 255.0"
   ]
  },
  {
   "cell_type": "markdown",
   "metadata": {
    "id": "xJFjGoG_yI_o"
   },
   "source": [
    "**1st NEURAL NETWORK** with **sigmoid activation function** in every neuron\n",
    "\n",
    "\n",
    "*   **1 Hidden** layer with **500 neurons**\n",
    "*   for the training we are using Stochastic Gradient Descent\n",
    "*   the **output** has **10 neurons**. The probability that a data (image) belongs to each category will be calculated by using the **softmax** activation function.\n",
    "\n",
    "\n",
    "\n",
    "\n",
    "\n"
   ]
  },
  {
   "cell_type": "code",
   "execution_count": 13,
   "metadata": {
    "colab": {
     "base_uri": "https://localhost:8080/"
    },
    "id": "aw6j143iXHTD",
    "outputId": "a712c572-f391-4d51-c6ae-49327915b2c2"
   },
   "outputs": [
    {
     "name": "stdout",
     "output_type": "stream",
     "text": [
      "Epoch 1/10\n",
      "1875/1875 [==============================] - 7s 2ms/step - loss: 1.5281 - accuracy: 0.5698\n",
      "Epoch 2/10\n",
      "1875/1875 [==============================] - 4s 2ms/step - loss: 0.7445 - accuracy: 0.7575\n",
      "Epoch 3/10\n",
      "1875/1875 [==============================] - 5s 3ms/step - loss: 0.6427 - accuracy: 0.7784\n",
      "Epoch 4/10\n",
      "1875/1875 [==============================] - 4s 2ms/step - loss: 0.5814 - accuracy: 0.7960\n",
      "Epoch 5/10\n",
      "1875/1875 [==============================] - 4s 2ms/step - loss: 0.5564 - accuracy: 0.8044\n",
      "Epoch 6/10\n",
      "1875/1875 [==============================] - 4s 2ms/step - loss: 0.5245 - accuracy: 0.8198\n",
      "Epoch 7/10\n",
      "1875/1875 [==============================] - 5s 2ms/step - loss: 0.5179 - accuracy: 0.8194\n",
      "Epoch 8/10\n",
      "1875/1875 [==============================] - 5s 2ms/step - loss: 0.4936 - accuracy: 0.8294\n",
      "Epoch 9/10\n",
      "1875/1875 [==============================] - 4s 2ms/step - loss: 0.4889 - accuracy: 0.8314\n",
      "Epoch 10/10\n",
      "1875/1875 [==============================] - 4s 2ms/step - loss: 0.4831 - accuracy: 0.8313\n"
     ]
    },
    {
     "data": {
      "text/plain": [
       "<tensorflow.python.keras.callbacks.History at 0x1a54413a3c8>"
      ]
     },
     "execution_count": 13,
     "metadata": {},
     "output_type": "execute_result"
    }
   ],
   "source": [
    "K = 500\n",
    "first_model = tf.keras.Sequential([\n",
    "    tf.keras.layers.Flatten(input_shape=(28, 28)),\n",
    "    tf.keras.layers.Dense(K, activation='sigmoid'),\n",
    "    tf.keras.layers.Dense(10, activation='softmax')\n",
    "])\n",
    "opt = tf.keras.optimizers.SGD()\n",
    "\n",
    "# first_model.compile(optimizer = opt, metrics=['accuracy'])\n",
    "first_model.compile(optimizer='SGD',\n",
    "              loss=tf.keras.losses.SparseCategoricalCrossentropy(from_logits=True),\n",
    "              metrics=['accuracy'])\n",
    "first_model.fit(train_images, train_labels, epochs=10)"
   ]
  },
  {
   "cell_type": "code",
   "execution_count": 14,
   "metadata": {
    "colab": {
     "base_uri": "https://localhost:8080/"
    },
    "id": "Wxa6VqhTZG82",
    "outputId": "51f30a4d-ac62-4842-c833-8516a9a90c90"
   },
   "outputs": [
    {
     "name": "stdout",
     "output_type": "stream",
     "text": [
      "313/313 - 3s - loss: 0.5015 - accuracy: 0.8224\n",
      "\n",
      "Test accuracy: 0.8223999738693237\n",
      "\n",
      "Test loss: 0.5014984011650085\n"
     ]
    }
   ],
   "source": [
    "test_loss, test_acc = first_model.evaluate(test_images,  test_labels, verbose=2)\n",
    "print('\\nTest accuracy:', test_acc)\n",
    "print('\\nTest loss:', test_loss)"
   ]
  },
  {
   "cell_type": "code",
   "execution_count": 15,
   "metadata": {},
   "outputs": [
    {
     "name": "stdout",
     "output_type": "stream",
     "text": [
      "157/157 [==============================] - 3s 2ms/step\n",
      "F1 Score of the 1st model: 0.8195194562895265\n",
      "Accuracy of the 1st model: 0.8224\n"
     ]
    }
   ],
   "source": [
    "from sklearn.metrics import f1_score, accuracy_score\n",
    "y_pred = first_model.predict(test_images, batch_size=64, verbose=1)\n",
    "y_pred_bool = np.argmax(y_pred, axis=1)\n",
    "\n",
    "f1_current =f1_score(test_labels,y_pred_bool, average = 'weighted')\n",
    "f1_nn.append(f1_current)\n",
    "\n",
    "acc_current = accuracy_score(test_labels,y_pred_bool)\n",
    "acc_nn.append(acc_current)\n",
    "\n",
    "print(\"F1 Score of the 1st model: {}\".format(f1_current))\n",
    "print(\"Accuracy of the 1st model: {}\".format(acc_current))\n"
   ]
  },
  {
   "cell_type": "markdown",
   "metadata": {},
   "source": [
    "**2nd NEURAL NETWORK** with **sigmoid activation function** in every neuron\n",
    "\n",
    "\n",
    "*   **1 Hidden** layer with **500 neurons**\n",
    "*   **2 Hidden** layer with **200 neurons**\n",
    "*   for the training we are using Stochastic Gradient Descent\n",
    "*   the **output** has **10 neurons**. The probability that a data (image) belongs to each category will be calculated by using the **softmax** activation function.\n",
    "\n",
    "\n",
    "\n",
    "\n",
    "\n"
   ]
  },
  {
   "cell_type": "code",
   "execution_count": 16,
   "metadata": {
    "colab": {
     "base_uri": "https://localhost:8080/"
    },
    "id": "iBEsbyUBypTa",
    "outputId": "127add92-b6f2-4a75-c9b6-5e5eb6d0d696"
   },
   "outputs": [
    {
     "name": "stdout",
     "output_type": "stream",
     "text": [
      "Epoch 1/10\n",
      "1875/1875 [==============================] - 7s 2ms/step - loss: 2.0840 - accuracy: 0.3542\n",
      "Epoch 2/10\n",
      "1875/1875 [==============================] - 4s 2ms/step - loss: 1.1892 - accuracy: 0.6463\n",
      "Epoch 3/10\n",
      "1875/1875 [==============================] - 4s 2ms/step - loss: 0.9007 - accuracy: 0.7104\n",
      "Epoch 4/10\n",
      "1875/1875 [==============================] - 5s 3ms/step - loss: 0.7580 - accuracy: 0.7408\n",
      "Epoch 5/10\n",
      "1875/1875 [==============================] - 6s 3ms/step - loss: 0.6916 - accuracy: 0.7509\n",
      "Epoch 6/10\n",
      "1875/1875 [==============================] - 5s 3ms/step - loss: 0.6439 - accuracy: 0.7671\n",
      "Epoch 7/10\n",
      "1875/1875 [==============================] - 6s 3ms/step - loss: 0.6196 - accuracy: 0.7749\n",
      "Epoch 8/10\n",
      "1875/1875 [==============================] - 6s 3ms/step - loss: 0.5851 - accuracy: 0.7886\n",
      "Epoch 9/10\n",
      "1875/1875 [==============================] - 6s 3ms/step - loss: 0.5684 - accuracy: 0.7963\n",
      "Epoch 10/10\n",
      "1875/1875 [==============================] - 5s 3ms/step - loss: 0.5434 - accuracy: 0.8079\n"
     ]
    },
    {
     "data": {
      "text/plain": [
       "<tensorflow.python.keras.callbacks.History at 0x1a5443c0488>"
      ]
     },
     "execution_count": 16,
     "metadata": {},
     "output_type": "execute_result"
    }
   ],
   "source": [
    "K1 = 500\n",
    "K2 = 200\n",
    "second_model = tf.keras.Sequential([\n",
    "    tf.keras.layers.Flatten(input_shape=(28, 28)),\n",
    "    tf.keras.layers.Dense(K1, activation='sigmoid'),\n",
    "    tf.keras.layers.Dense(K2, activation='sigmoid'),\n",
    "    tf.keras.layers.Dense(10, activation='softmax')\n",
    "])\n",
    "opt = tf.keras.optimizers.SGD()\n",
    "\n",
    "second_model.compile(optimizer='SGD',\n",
    "              loss=tf.keras.losses.SparseCategoricalCrossentropy(from_logits=True),\n",
    "              metrics=['accuracy'])\n",
    "second_model.fit(train_images, train_labels, epochs=10)"
   ]
  },
  {
   "cell_type": "code",
   "execution_count": 17,
   "metadata": {
    "colab": {
     "base_uri": "https://localhost:8080/"
    },
    "id": "4GHRF06Y0aYo",
    "outputId": "5d471893-4f22-4813-a8c8-f61e3a09b142"
   },
   "outputs": [
    {
     "name": "stdout",
     "output_type": "stream",
     "text": [
      "313/313 - 3s - loss: 0.5566 - accuracy: 0.7997\n",
      "\n",
      "Test accuracy: 0.7997000217437744\n"
     ]
    }
   ],
   "source": [
    "test_loss, test_acc = second_model.evaluate(test_images,  test_labels, verbose=2)\n",
    "print('\\nTest accuracy:', test_acc)"
   ]
  },
  {
   "cell_type": "code",
   "execution_count": 18,
   "metadata": {},
   "outputs": [
    {
     "name": "stdout",
     "output_type": "stream",
     "text": [
      "157/157 [==============================] - 3s 2ms/step\n",
      "F1 Score of the 2nd model: 0.795980740331989\n",
      "Accuracy of the 2nd model: 0.7997\n"
     ]
    }
   ],
   "source": [
    "from sklearn.metrics import f1_score, accuracy_score\n",
    "y_pred = second_model.predict(test_images, batch_size=64, verbose=1)\n",
    "y_pred_bool = np.argmax(y_pred, axis=1)\n",
    "\n",
    "f1_current =f1_score(test_labels,y_pred_bool, average = 'weighted')\n",
    "f1_nn.append(f1_current)\n",
    "\n",
    "acc_current = accuracy_score(test_labels,y_pred_bool)\n",
    "acc_nn.append(acc_current)\n",
    "\n",
    "print(\"F1 Score of the 2nd model: {}\".format(f1_current))\n",
    "print(\"Accuracy of the 2nd model: {}\".format(acc_current))"
   ]
  },
  {
   "cell_type": "markdown",
   "metadata": {},
   "source": [
    "# NEURAL NETWORKS RESULTS"
   ]
  },
  {
   "cell_type": "markdown",
   "metadata": {},
   "source": [
    "As we can see from the above results:\n",
    "\n",
    "the **F1_score with ascending order**\n",
    "\n",
    "1.   **Second model** F1 Score: 0.795980740331989\n",
    "2.   **First model** F1 Score of the 1st model: 0.8195194562895265\n",
    "\n",
    "\n",
    "the **ACCURACY with ascending order**\n",
    "1.   **Second model** Accuracy of the 2nd model: 0.7997\n",
    "2.   **First model** Accuracy of the 1st model: 0.8224\n",
    "\n",
    "\n",
    "So the **best case** of **neural networks** according to the **F1_score** and the **Accuracy** is the **First_model** "
   ]
  },
  {
   "cell_type": "markdown",
   "metadata": {},
   "source": [
    "# SVM"
   ]
  },
  {
   "cell_type": "markdown",
   "metadata": {
    "id": "7dAyolNUlr3L"
   },
   "source": [
    "**LINEAR KERNEL**"
   ]
  },
  {
   "cell_type": "code",
   "execution_count": 16,
   "metadata": {
    "id": "R0K5kATFZCkm"
   },
   "outputs": [
    {
     "data": {
      "text/plain": [
       "SVC(kernel='linear')"
      ]
     },
     "execution_count": 16,
     "metadata": {},
     "output_type": "execute_result"
    }
   ],
   "source": [
    "from sklearn.svm import SVC\n",
    "# svc_linear_kernel = LinearSVC()\n",
    "\n",
    "svc_linear_kernel = SVC(kernel='linear', C = 1.0)\n",
    "svc_linear_kernel.fit(train_images_2d, train_labels)"
   ]
  },
  {
   "cell_type": "markdown",
   "metadata": {},
   "source": [
    "**Making prediction**"
   ]
  },
  {
   "cell_type": "code",
   "execution_count": 23,
   "metadata": {},
   "outputs": [],
   "source": [
    "y_pred = svc_linear_kernel.predict(test_images_2d)"
   ]
  },
  {
   "cell_type": "markdown",
   "metadata": {},
   "source": [
    "**Calculate metrics**"
   ]
  },
  {
   "cell_type": "code",
   "execution_count": 25,
   "metadata": {},
   "outputs": [
    {
     "name": "stdout",
     "output_type": "stream",
     "text": [
      "F1 Score: 0.8456969698281024\n",
      "Accuracy: 0.8464\n"
     ]
    }
   ],
   "source": [
    "from sklearn.metrics import f1_score, accuracy_score\n",
    "print(\"F1 Score: {}\".format(f1_score(test_labels,y_pred, average = 'weighted')))\n",
    "print(\"Accuracy: {}\".format(accuracy_score(test_labels,y_pred)))"
   ]
  },
  {
   "cell_type": "markdown",
   "metadata": {
    "id": "ChR_srrxlvPe"
   },
   "source": [
    "**GAUSSIAN KERNEL**"
   ]
  },
  {
   "cell_type": "code",
   "execution_count": 8,
   "metadata": {
    "colab": {
     "base_uri": "https://localhost:8080/",
     "height": 197
    },
    "id": "CS08dcvklugx",
    "outputId": "987d9c5b-1a8e-4023-d330-1d52a3507bc0"
   },
   "outputs": [
    {
     "data": {
      "text/plain": [
       "SVC()"
      ]
     },
     "execution_count": 8,
     "metadata": {},
     "output_type": "execute_result"
    }
   ],
   "source": [
    "from sklearn.svm import SVC\n",
    "svc_gaussian_kernel = SVC(kernel='rbf')\n",
    "svc_gaussian_kernel.fit(train_images_2d, train_labels)"
   ]
  },
  {
   "cell_type": "code",
   "execution_count": 10,
   "metadata": {},
   "outputs": [],
   "source": [
    "y_pred = svc_gaussian_kernel.predict(test_images_2d)"
   ]
  },
  {
   "cell_type": "code",
   "execution_count": 11,
   "metadata": {},
   "outputs": [
    {
     "name": "stdout",
     "output_type": "stream",
     "text": [
      "F1 Score with gaussian kernel: 0.8822648793630384\n",
      "Accuracy with gaussian kernel: 0.8828\n"
     ]
    }
   ],
   "source": [
    "from sklearn.metrics import f1_score, accuracy_score\n",
    "print(\"F1 Score with gaussian kernel: {}\".format(f1_score(test_labels,y_pred, average = 'weighted')))\n",
    "print(\"Accuracy with gaussian kernel: {}\".format(accuracy_score(test_labels,y_pred)))"
   ]
  },
  {
   "cell_type": "markdown",
   "metadata": {
    "id": "RQxZc2Zllzig"
   },
   "source": [
    "**COSINE KERNEL** "
   ]
  },
  {
   "cell_type": "code",
   "execution_count": 8,
   "metadata": {
    "colab": {
     "base_uri": "https://localhost:8080/",
     "height": 374
    },
    "id": "Q_WXIqr_1yEF",
    "outputId": "662647ca-7457-4368-c15a-219d7bf1e50b"
   },
   "outputs": [],
   "source": [
    "from sklearn.svm import SVC\n",
    "from sklearn.metrics.pairwise import cosine_similarity\n",
    "# cosine_kernel = cosine_similarity(train_images, train_labels)\n",
    "svc_cosine_kernel = SVC(kernel= cosine_similarity)\n",
    "# svc_cosine_kernel.fit(train_images, train_labels)"
   ]
  },
  {
   "cell_type": "code",
   "execution_count": 9,
   "metadata": {},
   "outputs": [
    {
     "data": {
      "text/plain": [
       "SVC(kernel=<function cosine_similarity at 0x00000189D1FA3288>)"
      ]
     },
     "execution_count": 9,
     "metadata": {},
     "output_type": "execute_result"
    }
   ],
   "source": [
    "svc_cosine_kernel.fit(train_images_2d[:30000], train_labels[:30000])"
   ]
  },
  {
   "cell_type": "code",
   "execution_count": null,
   "metadata": {},
   "outputs": [],
   "source": [
    "y_pred = svc_cosine_kernel.predict(train_images_2d[:30000])"
   ]
  },
  {
   "cell_type": "markdown",
   "metadata": {},
   "source": [
    "# SVM RESULTS"
   ]
  },
  {
   "cell_type": "markdown",
   "metadata": {},
   "source": [
    "As we can see from the above results:\n",
    "\n",
    "the **F1_score with ascending order**\n",
    "\n",
    "1.   **LINEAR KERNEL** F1 Score: 0.8456969698281024\n",
    "2.   **GAUSSIAN KERNEL** F1 Score with gaussian kernel: 0.8822648793630384\n",
    "\n",
    "\n",
    "the **ACCURACY with ascending order**\n",
    "1.   **LINEAR KERNEL** Accuracy: 0.8464\n",
    "2.   **GAUSSIAN KERNEL** Accuracy with gaussian kernel: 0.8828\n",
    "\n",
    "\n",
    "So the **best case** of **SVM** according to the **F1_score** and the **Accuracy** is the **GAUSSIAN KERNEL** "
   ]
  },
  {
   "cell_type": "markdown",
   "metadata": {},
   "source": [
    "# FINAL RESULTS"
   ]
  },
  {
   "cell_type": "markdown",
   "metadata": {},
   "source": [
    "After examining all our methods we came to the following conclusion:\n",
    "\n",
    "***we are going to compare the max metrics that we found previously in KNN and neural networks with the metric of the svm***\n",
    "\n",
    "the **F1_score with ascending order**\n",
    "***The best of the 3 methods are***\n",
    "\n",
    "1.   **First model** F1 Score of the 1st model: 0.8195194562895265\n",
    "2.   **knn-cosine distance with 1 neigbhor** F1 Score: 0.8575689280735682\n",
    "3.   **svm-gaussian kernel**  F1 Score with gaussian kernel: 0.8822648793630384\n",
    "\n",
    "the **ACCURACY with ascending order**\n",
    "1.   **First model** Accuracy of the 1st model: 0.8224\n",
    "2.   **knn-cosine distance with 5 neigbhors** Accuracy: 0.8578\n",
    "3.   **svm-gaussian-kernel** Accuracy with gaussian kernel: 0.8828\n",
    "\n",
    "So the **best case** according to the methods that we used that has the best **F1_score** and the **Accuracy** is **svm-gaussian kernel** "
   ]
  }
 ],
 "metadata": {
  "colab": {
   "collapsed_sections": [],
   "name": "knn1.ipynb",
   "provenance": []
  },
  "kernelspec": {
   "display_name": "Python 3",
   "language": "python",
   "name": "python3"
  },
  "language_info": {
   "codemirror_mode": {
    "name": "ipython",
    "version": 3
   },
   "file_extension": ".py",
   "mimetype": "text/x-python",
   "name": "python",
   "nbconvert_exporter": "python",
   "pygments_lexer": "ipython3",
   "version": "3.7.4"
  }
 },
 "nbformat": 4,
 "nbformat_minor": 1
}
